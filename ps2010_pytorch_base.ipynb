{
 "cells": [
  {
   "cell_type": "markdown",
   "metadata": {},
   "source": [
    "# Tensor"
   ]
  },
  {
   "cell_type": "markdown",
   "metadata": {},
   "source": [
    "## CRUD"
   ]
  },
  {
   "cell_type": "markdown",
   "metadata": {},
   "source": [
    "### C"
   ]
  },
  {
   "cell_type": "markdown",
   "metadata": {},
   "source": [
    "## 조회"
   ]
  },
  {
   "cell_type": "code",
   "execution_count": 3,
   "metadata": {},
   "outputs": [
    {
     "name": "stdout",
     "output_type": "stream",
     "text": [
      "tensor(1.)\n",
      "1.0\n"
     ]
    }
   ],
   "source": [
    "import torch\n",
    "points = torch.tensor([1.0, 2.0, 3.0, 4.0])\n",
    "\n",
    "print(points[0])\n",
    "print(float(points[0]))\n"
   ]
  },
  {
   "cell_type": "markdown",
   "metadata": {},
   "source": [
    "## 사이즈 보기"
   ]
  },
  {
   "cell_type": "code",
   "execution_count": 14,
   "metadata": {},
   "outputs": [
    {
     "name": "stdout",
     "output_type": "stream",
     "text": [
      "x.size :  torch.Size([3, 2])\n",
      "x.shape :  torch.Size([3, 2])\n",
      "x.dim:  2\n",
      "x.size(0):  3\n",
      "x.size(1):  2\n",
      "x.shape[1]:  2\n"
     ]
    }
   ],
   "source": [
    "import torch\n",
    "x = torch.FloatTensor([\n",
    "    [1,2],\n",
    "    [2,3],\n",
    "    [3,4]\n",
    "])\n",
    "\n",
    "print('x.size : ', x.size())\n",
    "print('x.shape : ', x.shape)\n",
    "print('x.dim: ', x.dim())\n",
    "print('x.size(0): ', x.size(0))\n",
    "print('x.size(1): ', x.size(1))\n",
    "print('x.shape[1]: ', x.shape[1])"
   ]
  },
  {
   "cell_type": "markdown",
   "metadata": {},
   "source": [
    "## 텐서 비교"
   ]
  },
  {
   "cell_type": "markdown",
   "metadata": {},
   "source": [
    "### 동일한 요소값 수 비교"
   ]
  },
  {
   "cell_type": "code",
   "execution_count": 2,
   "metadata": {},
   "outputs": [
    {
     "name": "stdout",
     "output_type": "stream",
     "text": [
      "tensor([0., 1., 2., 3., 4., 5., 6.])\n",
      "tensor([0., 1., 2., 3., 4., 5., 6.])\n"
     ]
    },
    {
     "data": {
      "text/plain": [
       "tensor(7)"
      ]
     },
     "execution_count": 2,
     "metadata": {},
     "output_type": "execute_result"
    }
   ],
   "source": [
    "import torch\n",
    "t1 = torch.FloatTensor([0, 1, 2, 3, 4, 5, 6])\n",
    "t2 = torch.FloatTensor([0, 1, 2, 3, 4, 5, 6])\n",
    "\n",
    "print(t1)\n",
    "print(t2)\n",
    "\n",
    "torch.sum(t1 == t2)"
   ]
  },
  {
   "cell_type": "code",
   "execution_count": 3,
   "metadata": {},
   "outputs": [
    {
     "name": "stdout",
     "output_type": "stream",
     "text": [
      "tensor([0., 1., 2., 3., 4., 5., 6.])\n",
      "tensor([0., 1., 2., 5., 4., 5., 6.])\n"
     ]
    },
    {
     "data": {
      "text/plain": [
       "tensor(6)"
      ]
     },
     "execution_count": 3,
     "metadata": {},
     "output_type": "execute_result"
    }
   ],
   "source": [
    "import torch\n",
    "t1 = torch.FloatTensor([0, 1, 2, 3, 4, 5, 6])\n",
    "t2 = torch.FloatTensor([0, 1, 2, 5, 4, 5, 6])\n",
    "\n",
    "print(t1)\n",
    "print(t2)\n",
    "\n",
    "torch.sum(t1 == t2)"
   ]
  },
  {
   "cell_type": "code",
   "execution_count": 4,
   "metadata": {},
   "outputs": [
    {
     "name": "stdout",
     "output_type": "stream",
     "text": [
      "tensor([[0., 1., 2.],\n",
      "        [3., 4., 5.]])\n",
      "tensor([[0., 1., 2.],\n",
      "        [3., 3., 5.]])\n"
     ]
    },
    {
     "data": {
      "text/plain": [
       "tensor(5)"
      ]
     },
     "execution_count": 4,
     "metadata": {},
     "output_type": "execute_result"
    }
   ],
   "source": [
    "import torch\n",
    "t1 = torch.FloatTensor([[0, 1, 2], [3, 4, 5]])\n",
    "t2 = torch.FloatTensor([[0, 1, 2], [3, 3, 5]])\n",
    "\n",
    "print(t1)\n",
    "print(t2)\n",
    "\n",
    "torch.sum(t1 == t2)"
   ]
  },
  {
   "cell_type": "code",
   "execution_count": 1,
   "metadata": {},
   "outputs": [
    {
     "name": "stdout",
     "output_type": "stream",
     "text": [
      "tensor([[0., 1., 2.],\n",
      "        [3., 4., 5.]])\n",
      "tensor([[0., 1., 2.],\n",
      "        [3., 3., 5.]])\n"
     ]
    },
    {
     "data": {
      "text/plain": [
       "1"
      ]
     },
     "execution_count": 1,
     "metadata": {},
     "output_type": "execute_result"
    }
   ],
   "source": [
    "# t1의 특정 값에 대해서 정확도 산출 TP, TN 등을 뽑을 떄 필요\n",
    "import torch\n",
    "t1 = torch.FloatTensor([[0, 1, 2], [3, 4, 5]])\n",
    "t2 = torch.FloatTensor([[0, 1, 2], [3, 3, 5]])\n",
    "\n",
    "print(t1)\n",
    "print(t2)\n",
    "\n",
    "torch.sum((t1 == t2)*(t1 == 0)).item()\n"
   ]
  },
  {
   "cell_type": "code",
   "execution_count": 10,
   "metadata": {},
   "outputs": [
    {
     "name": "stdout",
     "output_type": "stream",
     "text": [
      "0\n"
     ]
    }
   ],
   "source": [
    "## tensor에서 특정 값의 개수를 세는 방법\n",
    "import torch\n",
    "\n",
    "def count_val_in_tensor(tensor, val):\n",
    "    ele  = torch.sum(t1 ==val).item()\n",
    "    \n",
    "    return ele\n",
    "\n",
    "\n",
    "t1 = torch.FloatTensor([[0, 1, 2], [2, 4, 5]])\n",
    "val = 10\n",
    "\n",
    "print(count_val_in_tensor(t1, val))\n",
    "\n"
   ]
  },
  {
   "cell_type": "code",
   "execution_count": null,
   "metadata": {},
   "outputs": [],
   "source": []
  },
  {
   "cell_type": "markdown",
   "metadata": {},
   "source": [
    "# pyTorch 기본사용법"
   ]
  },
  {
   "cell_type": "markdown",
   "metadata": {},
   "source": [
    "## preprocess"
   ]
  },
  {
   "cell_type": "code",
   "execution_count": null,
   "metadata": {
    "pycharm": {
     "name": "#%%\n"
    }
   },
   "outputs": [],
   "source": [
    "from __future__ import print_function\n",
    "import torch"
   ]
  },
  {
   "cell_type": "markdown",
   "metadata": {},
   "source": [
    "## 기본조작"
   ]
  },
  {
   "cell_type": "markdown",
   "metadata": {},
   "source": [
    "초기화되지 않은 5*3 행렬 생성하기"
   ]
  },
  {
   "cell_type": "code",
   "execution_count": null,
   "metadata": {
    "pycharm": {
     "name": "#%%\n"
    }
   },
   "outputs": [],
   "source": [
    "x = torch.empty(5,3)\n",
    "print(x)"
   ]
  },
  {
   "cell_type": "markdown",
   "metadata": {},
   "source": [
    "랜덤으로 초기화된 행렬 생성"
   ]
  },
  {
   "cell_type": "code",
   "execution_count": null,
   "metadata": {
    "pycharm": {
     "name": "#%%\n"
    }
   },
   "outputs": [],
   "source": [
    "x = torch.rand(5,3)\n",
    "print(x)"
   ]
  },
  {
   "cell_type": "markdown",
   "metadata": {},
   "source": [
    "0으로 채워지고 logn 데이터 타입을 가지는 행렬 생성"
   ]
  },
  {
   "cell_type": "code",
   "execution_count": null,
   "metadata": {
    "pycharm": {
     "name": "#%%\n"
    }
   },
   "outputs": [],
   "source": [
    "x = torch.zeros(5,3, dtype=torch.long)\n",
    "print(x)"
   ]
  },
  {
   "cell_type": "markdown",
   "metadata": {},
   "source": [
    "데이터로부터 직접 텐서 생성하기"
   ]
  },
  {
   "cell_type": "code",
   "execution_count": null,
   "metadata": {
    "pycharm": {
     "name": "#%%\n"
    }
   },
   "outputs": [],
   "source": [
    "x = torch.tensor([5.5, 3])\n",
    "print(x)"
   ]
  },
  {
   "cell_type": "markdown",
   "metadata": {},
   "source": [
    "이미 존재하는 텐서를 기반으로 새로운 텐서 생성\n",
    "입력센서의 속성(데이터 타입)들이 사용자에 의해 새롭게 제공되지 않는 이상 기존의 값 사용"
   ]
  },
  {
   "cell_type": "code",
   "execution_count": null,
   "metadata": {
    "pycharm": {
     "name": "#%%\n"
    }
   },
   "outputs": [],
   "source": [
    "x = x.new_ones(5,3, dtype=torch.double)\n",
    "print(x)"
   ]
  },
  {
   "cell_type": "code",
   "execution_count": null,
   "metadata": {
    "pycharm": {
     "name": "#%%\n"
    }
   },
   "outputs": [],
   "source": [
    "x = torch.randn_like(x, dtype=torch.float) #override dtype\n",
    "print(x)"
   ]
  },
  {
   "cell_type": "markdown",
   "metadata": {},
   "source": [
    "생성한 텐서의 사이즈 확인"
   ]
  },
  {
   "cell_type": "code",
   "execution_count": null,
   "metadata": {
    "pycharm": {
     "name": "#%%\n"
    }
   },
   "outputs": [],
   "source": [
    "print(x.size())"
   ]
  },
  {
   "cell_type": "markdown",
   "metadata": {},
   "source": [
    "torch.Size는 파이썬의 자료형이기 때문에 튜플과 관련된 모든 연산을 지원"
   ]
  },
  {
   "cell_type": "markdown",
   "metadata": {},
   "source": [
    "## 기본연산"
   ]
  },
  {
   "cell_type": "markdown",
   "metadata": {},
   "source": [
    "### 더하기"
   ]
  },
  {
   "cell_type": "code",
   "execution_count": null,
   "metadata": {
    "pycharm": {
     "name": "#%%\n"
    }
   },
   "outputs": [],
   "source": [
    "y = torch.rand(5,3)\n",
    "print(x + y)"
   ]
  },
  {
   "cell_type": "code",
   "execution_count": null,
   "metadata": {
    "pycharm": {
     "name": "#%%\n"
    }
   },
   "outputs": [],
   "source": [
    "x"
   ]
  },
  {
   "cell_type": "code",
   "execution_count": null,
   "metadata": {
    "pycharm": {
     "name": "#%%\n"
    }
   },
   "outputs": [],
   "source": [
    "y"
   ]
  },
  {
   "cell_type": "code",
   "execution_count": null,
   "metadata": {
    "pycharm": {
     "name": "#%%\n"
    }
   },
   "outputs": [],
   "source": [
    "## 더하기2\n",
    "print(torch.add(x,y))"
   ]
  },
  {
   "cell_type": "markdown",
   "metadata": {},
   "source": [
    "파라미터로 결과가 저장되는 결과 텐서(result) 지정"
   ]
  },
  {
   "cell_type": "code",
   "execution_count": null,
   "metadata": {
    "pycharm": {
     "name": "#%%\n"
    }
   },
   "outputs": [],
   "source": [
    "result = torch.empty(5,3)\n",
    "torch.add(x, y, out=result)\n",
    "print(result)"
   ]
  },
  {
   "cell_type": "markdown",
   "metadata": {},
   "source": [
    "#### 더하기(자체 inplace)"
   ]
  },
  {
   "cell_type": "code",
   "execution_count": null,
   "metadata": {
    "pycharm": {
     "name": "#%%\n"
    }
   },
   "outputs": [],
   "source": [
    "# add x to y\n",
    "y.add_(x)\n",
    "print(y)"
   ]
  },
  {
   "cell_type": "markdown",
   "metadata": {},
   "source": [
    "- 텐서를 제자리에서 변조하는 연산은 _문자를 이용하여 postfix(연산자를 피연산자의 뒷쪽에 표시)로 표기한다.\n",
    "- 예를 들면 x.copy_(y)와 x.t_()는 x를 변경시킨다"
   ]
  },
  {
   "cell_type": "markdown",
   "metadata": {},
   "source": [
    "## 인덱싱"
   ]
  },
  {
   "cell_type": "markdown",
   "metadata": {},
   "source": [
    "- Numpy와 같은 표준 인덱싱"
   ]
  },
  {
   "cell_type": "code",
   "execution_count": null,
   "metadata": {
    "pycharm": {
     "name": "#%%\n"
    }
   },
   "outputs": [],
   "source": [
    "print(x[:,1])"
   ]
  },
  {
   "cell_type": "markdown",
   "metadata": {},
   "source": [
    "## 사이즈 변경"
   ]
  },
  {
   "cell_type": "code",
   "execution_count": null,
   "metadata": {
    "pycharm": {
     "name": "#%%\n"
    }
   },
   "outputs": [],
   "source": [
    "x = torch.randn(4,4)\n",
    "y = x.view(16)\n",
    "z = x.view(-1, 8) # the size -1 is inferred from other dimensions\n",
    "print(x.size(), y.size(), z.size())"
   ]
  },
  {
   "cell_type": "markdown",
   "metadata": {},
   "source": [
    "- 1개의 요소를 가지는 텐서가 있으면 .item()을 이용하여 python에서 숫자 데이터처럼 값을 얻을 수 있음"
   ]
  },
  {
   "cell_type": "code",
   "execution_count": null,
   "metadata": {
    "pycharm": {
     "name": "#%%\n"
    }
   },
   "outputs": [],
   "source": [
    "x = torch.randn(1)\n",
    "print(x)"
   ]
  },
  {
   "cell_type": "code",
   "execution_count": null,
   "metadata": {
    "pycharm": {
     "name": "#%%\n"
    }
   },
   "outputs": [],
   "source": [
    "print(x.item())"
   ]
  },
  {
   "cell_type": "markdown",
   "metadata": {},
   "source": [
    "# 모델 정확도 계산\n"
   ]
  },
  {
   "cell_type": "markdown",
   "metadata": {},
   "source": [
    "## IoU 계산"
   ]
  },
  {
   "cell_type": "markdown",
   "metadata": {},
   "source": [
    "- IoU는 한장의 사진에 대해서이고 mIoU는 IoU의 평균임"
   ]
  },
  {
   "cell_type": "code",
   "execution_count": 11,
   "metadata": {},
   "outputs": [
    {
     "name": "stdout",
     "output_type": "stream",
     "text": [
      "torch.Size([1, 3, 3])\n",
      "tensor([[[1, 0, 1],\n",
      "         [0, 1, 0],\n",
      "         [0, 0, 0]]])\n",
      "torch.Size([1, 3, 3])\n",
      "tensor([[[1, 0, 1],\n",
      "         [0, 1, 1],\n",
      "         [0, 0, 0]]])\n"
     ]
    },
    {
     "name": "stderr",
     "output_type": "stream",
     "text": [
      "C:\\Users\\oaiskoo\\AppData\\Local\\Temp\\ipykernel_22484\\3626757231.py:9: UserWarning: To copy construct from a tensor, it is recommended to use sourceTensor.clone().detach() or sourceTensor.clone().detach().requires_grad_(True), rather than torch.tensor(sourceTensor).\n",
      "  pred = torch.tensor(target)\n"
     ]
    },
    {
     "data": {
      "text/plain": [
       "tensor(0.7917)"
      ]
     },
     "execution_count": 11,
     "metadata": {},
     "output_type": "execute_result"
    }
   ],
   "source": [
    "## 단일 이미지에 대한 IoU 계산\n",
    "from torchmetrics import JaccardIndex\n",
    "import torch\n",
    "\n",
    "target = torch.randint(0, 2, (1, 3, 3))\n",
    "print(target.shape)\n",
    "print(target)\n",
    "pred = torch.tensor(target)\n",
    "pred[0, 1, 2] = 1 - pred[0, 1, 2]\n",
    "print(pred.shape)\n",
    "print(pred)\n",
    "\n",
    "jaccard = JaccardIndex(num_classes=2)\n",
    "jaccard(pred, target)"
   ]
  },
  {
   "cell_type": "code",
   "execution_count": 12,
   "metadata": {},
   "outputs": [
    {
     "name": "stdout",
     "output_type": "stream",
     "text": [
      "torch.Size([1, 3, 3])\n",
      "tensor([[[1, 0, 1],\n",
      "         [1, 1, 0],\n",
      "         [1, 1, 0]]])\n",
      "torch.Size([1, 3, 3])\n",
      "tensor([[[1, 1, 1],\n",
      "         [1, 1, 1],\n",
      "         [1, 1, 1]]])\n"
     ]
    },
    {
     "data": {
      "text/plain": [
       "tensor(0.3333)"
      ]
     },
     "execution_count": 12,
     "metadata": {},
     "output_type": "execute_result"
    }
   ],
   "source": [
    "# 클래스가 한쪽을 몰릴 경우\n",
    "from torchmetrics import JaccardIndex\n",
    "import torch\n",
    "\n",
    "target = torch.randint(0, 2, (1, 3, 3))\n",
    "print(target.shape)\n",
    "print(target)\n",
    "pred = torch.ones_like(target)\n",
    "print(pred.shape)\n",
    "print(pred)\n",
    "\n",
    "jaccard = JaccardIndex(num_classes=2)\n",
    "jaccard(pred, target)\n"
   ]
  },
  {
   "cell_type": "markdown",
   "metadata": {},
   "source": [
    "# 기타 사용법"
   ]
  },
  {
   "cell_type": "markdown",
   "metadata": {},
   "source": [
    "## PIL 이미지를 numpy array로 변환"
   ]
  },
  {
   "cell_type": "code",
   "execution_count": 1,
   "metadata": {},
   "outputs": [],
   "source": [
    "import numpy as np\n",
    "from PIL import Image\n",
    "\n",
    "img = Image.open('psdata/maemi.png')\n",
    "img.show()"
   ]
  },
  {
   "cell_type": "code",
   "execution_count": 3,
   "metadata": {},
   "outputs": [
    {
     "name": "stdout",
     "output_type": "stream",
     "text": [
      "[[254 254 254 ... 254 254 254]\n",
      " [254 254 254 ... 254 254 254]\n",
      " [254 254 254 ... 254 254 254]\n",
      " ...\n",
      " [254 254 254 ... 254 254 254]\n",
      " [254 254 254 ... 254 254 254]\n",
      " [254 254 254 ... 254 254 254]]\n",
      "(428, 428)\n"
     ]
    }
   ],
   "source": [
    "x = np.array(img)\n",
    "print(x)\n",
    "print(x.shape)"
   ]
  },
  {
   "cell_type": "code",
   "execution_count": 4,
   "metadata": {},
   "outputs": [
    {
     "name": "stdout",
     "output_type": "stream",
     "text": [
      "[[254 254 254 ... 254 254 254]\n",
      " [254 254 254 ... 254 254 254]\n",
      " [254 254 254 ... 254 254 254]\n",
      " ...\n",
      " [254 254 254 ... 254 254 254]\n",
      " [254 254 254 ... 254 254 254]\n",
      " [254 254 254 ... 254 254 254]]\n",
      "(428, 428)\n"
     ]
    }
   ],
   "source": [
    "x_2 = np.asarray(img)\n",
    "print(x_2)\n",
    "print(x_2.shape)"
   ]
  },
  {
   "cell_type": "markdown",
   "metadata": {},
   "source": [
    "## ndarray를 이미지로 변환"
   ]
  },
  {
   "cell_type": "code",
   "execution_count": 6,
   "metadata": {},
   "outputs": [],
   "source": [
    "import numpy as np\n",
    "from PIL import Image\n",
    "\n",
    "img = Image.open('psdata/maemi.png')\n",
    "\n",
    "x = np.array(img)\n",
    "img2 = Image.fromarray(x)\n",
    "img2.show()\n",
    "\n",
    "img2.save('psdata/maemi2.png')"
   ]
  },
  {
   "cell_type": "markdown",
   "metadata": {},
   "source": [
    "## torch tensor와 PIL image, numpy array 간의 변환"
   ]
  },
  {
   "cell_type": "code",
   "execution_count": 9,
   "metadata": {},
   "outputs": [
    {
     "name": "stdout",
     "output_type": "stream",
     "text": [
      "RGB  Image shape : (428, 428, 3)\n",
      "RGB  Value Scale : 0~255\n",
      "tensor([[[0.9961, 0.9961, 0.9961,  ..., 0.9961, 0.9961, 0.9961],\n",
      "         [0.9961, 0.9961, 0.9961,  ..., 0.9961, 0.9961, 0.9961],\n",
      "         [0.9961, 0.9961, 0.9961,  ..., 0.9961, 0.9961, 0.9961],\n",
      "         ...,\n",
      "         [0.9961, 0.9961, 0.9961,  ..., 0.9961, 0.9961, 0.9961],\n",
      "         [0.9961, 0.9961, 0.9961,  ..., 0.9961, 0.9961, 0.9961],\n",
      "         [0.9961, 0.9961, 0.9961,  ..., 0.9961, 0.9961, 0.9961]],\n",
      "\n",
      "        [[0.9961, 0.9961, 0.9961,  ..., 0.9961, 0.9961, 0.9961],\n",
      "         [0.9961, 0.9961, 0.9961,  ..., 0.9961, 0.9961, 0.9961],\n",
      "         [0.9961, 0.9961, 0.9961,  ..., 0.9961, 0.9961, 0.9961],\n",
      "         ...,\n",
      "         [0.9961, 0.9961, 0.9961,  ..., 0.9961, 0.9961, 0.9961],\n",
      "         [0.9961, 0.9961, 0.9961,  ..., 0.9961, 0.9961, 0.9961],\n",
      "         [0.9961, 0.9961, 0.9961,  ..., 0.9961, 0.9961, 0.9961]],\n",
      "\n",
      "        [[0.9961, 0.9961, 0.9961,  ..., 0.9961, 0.9961, 0.9961],\n",
      "         [0.9961, 0.9961, 0.9961,  ..., 0.9961, 0.9961, 0.9961],\n",
      "         [0.9961, 0.9961, 0.9961,  ..., 0.9961, 0.9961, 0.9961],\n",
      "         ...,\n",
      "         [0.9961, 0.9961, 0.9961,  ..., 0.9961, 0.9961, 0.9961],\n",
      "         [0.9961, 0.9961, 0.9961,  ..., 0.9961, 0.9961, 0.9961],\n",
      "         [0.9961, 0.9961, 0.9961,  ..., 0.9961, 0.9961, 0.9961]]])\n",
      "torch.Size([3, 428, 428])\n",
      "tensor(0.) tensor(1.)\n",
      "tensor([[[0.9961, 0.9961, 0.9961,  ..., 0.9961, 0.9961, 0.9961],\n",
      "         [0.9961, 0.9961, 0.9961,  ..., 0.9961, 0.9961, 0.9961],\n",
      "         [0.9961, 0.9961, 0.9961,  ..., 0.9961, 0.9961, 0.9961],\n",
      "         ...,\n",
      "         [0.9961, 0.9961, 0.9961,  ..., 0.9961, 0.9961, 0.9961],\n",
      "         [0.9961, 0.9961, 0.9961,  ..., 0.9961, 0.9961, 0.9961],\n",
      "         [0.9961, 0.9961, 0.9961,  ..., 0.9961, 0.9961, 0.9961]],\n",
      "\n",
      "        [[0.9961, 0.9961, 0.9961,  ..., 0.9961, 0.9961, 0.9961],\n",
      "         [0.9961, 0.9961, 0.9961,  ..., 0.9961, 0.9961, 0.9961],\n",
      "         [0.9961, 0.9961, 0.9961,  ..., 0.9961, 0.9961, 0.9961],\n",
      "         ...,\n",
      "         [0.9961, 0.9961, 0.9961,  ..., 0.9961, 0.9961, 0.9961],\n",
      "         [0.9961, 0.9961, 0.9961,  ..., 0.9961, 0.9961, 0.9961],\n",
      "         [0.9961, 0.9961, 0.9961,  ..., 0.9961, 0.9961, 0.9961]],\n",
      "\n",
      "        [[0.9961, 0.9961, 0.9961,  ..., 0.9961, 0.9961, 0.9961],\n",
      "         [0.9961, 0.9961, 0.9961,  ..., 0.9961, 0.9961, 0.9961],\n",
      "         [0.9961, 0.9961, 0.9961,  ..., 0.9961, 0.9961, 0.9961],\n",
      "         ...,\n",
      "         [0.9961, 0.9961, 0.9961,  ..., 0.9961, 0.9961, 0.9961],\n",
      "         [0.9961, 0.9961, 0.9961,  ..., 0.9961, 0.9961, 0.9961],\n",
      "         [0.9961, 0.9961, 0.9961,  ..., 0.9961, 0.9961, 0.9961]]])\n",
      "torch.Size([3, 428, 428])\n",
      "tensor(0.) tensor(1.)\n",
      "[[[254 254 254]\n",
      "  [254 254 254]\n",
      "  [254 254 254]\n",
      "  ...\n",
      "  [254 254 254]\n",
      "  [254 254 254]\n",
      "  [254 254 254]]\n",
      "\n",
      " [[254 254 254]\n",
      "  [254 254 254]\n",
      "  [254 254 254]\n",
      "  ...\n",
      "  [254 254 254]\n",
      "  [254 254 254]\n",
      "  [254 254 254]]\n",
      "\n",
      " [[254 254 254]\n",
      "  [254 254 254]\n",
      "  [254 254 254]\n",
      "  ...\n",
      "  [254 254 254]\n",
      "  [254 254 254]\n",
      "  [254 254 254]]\n",
      "\n",
      " ...\n",
      "\n",
      " [[254 254 254]\n",
      "  [254 254 254]\n",
      "  [254 254 254]\n",
      "  ...\n",
      "  [254 254 254]\n",
      "  [254 254 254]\n",
      "  [254 254 254]]\n",
      "\n",
      " [[254 254 254]\n",
      "  [254 254 254]\n",
      "  [254 254 254]\n",
      "  ...\n",
      "  [254 254 254]\n",
      "  [254 254 254]\n",
      "  [254 254 254]]\n",
      "\n",
      " [[254 254 254]\n",
      "  [254 254 254]\n",
      "  [254 254 254]\n",
      "  ...\n",
      "  [254 254 254]\n",
      "  [254 254 254]\n",
      "  [254 254 254]]]\n",
      "(428, 428, 3)\n",
      "0\n"
     ]
    }
   ],
   "source": [
    "from torchvision.transforms import ToTensor, ToPILImage\n",
    "from PIL import Image\n",
    "import numpy as np\n",
    "\n",
    "\n",
    "img_RGB  = Image.open('psdata/maemi.png').convert('RGB')\n",
    "img_RGB_array  = np.array(img_RGB)\n",
    "\n",
    "print(f'RGB  Image shape : {img_RGB_array.shape}')  # 428 x 428 x 3\n",
    "print(f'RGB  Value Scale : {img_RGB_array.min()}~{img_RGB_array.max()}') # 0~255\n",
    "\n",
    "# torchvision.transforms.ToTensor\n",
    "tf_toTensor = ToTensor() \n",
    "\n",
    "# PIL to Tensor\n",
    "img_RGB_tensor_from_PIL = tf_toTensor(img_RGB)\n",
    "\n",
    "print(img_RGB_tensor_from_PIL)\n",
    "print(img_RGB_tensor_from_PIL.size()) # 3 x 428 x 428\n",
    "print(img_RGB_tensor_from_PIL.min(), img_RGB_tensor_from_PIL.max()) # 0~1\n",
    "\n",
    "\n",
    "# Numpy array to Tensor\n",
    "img_RGB_tensor_from_ndarray = tf_toTensor(img_RGB_array)\n",
    "\n",
    "print(img_RGB_tensor_from_ndarray)\n",
    "print(img_RGB_tensor_from_ndarray.size()) # 3 x 428 x 428\n",
    "print(img_RGB_tensor_from_ndarray.min(), img_RGB_tensor_from_ndarray.max()) # 0~1\n",
    "\n",
    "\n",
    "# torchvision.transforms.ToPILImage\n",
    "tf_toPILImage = ToPILImage() \n",
    "\n",
    "img_PIL_from_Tensor = tf_toPILImage(img_RGB_tensor_from_PIL)\n",
    "\n",
    "print(np.array(img_PIL_from_Tensor)) # 0~255\n",
    "print(np.array(img_PIL_from_Tensor).shape) # 428 x 428 x 3\n",
    "\n",
    "\n",
    "# Check values between numpy array and tensor\n",
    "print(np.sum(~(img_RGB_array==np.array(img_PIL_from_Tensor)))) # 0 means all same"
   ]
  },
  {
   "cell_type": "markdown",
   "metadata": {},
   "source": [
    "# API"
   ]
  },
  {
   "cell_type": "markdown",
   "metadata": {},
   "source": [
    "## torch.max"
   ]
  },
  {
   "cell_type": "code",
   "execution_count": null,
   "metadata": {},
   "outputs": [],
   "source": [
    "import torch\n",
    "import torch.nn as nn\n",
    "\n",
    "data = torch.randint(10,(2,2))\n",
    "print(data)\n",
    "print(torch.max(data))"
   ]
  },
  {
   "cell_type": "code",
   "execution_count": null,
   "metadata": {},
   "outputs": [],
   "source": [
    "import torch\n",
    "import torch.nn as nn\n",
    "\n",
    "data = torch.randint(10,(2,2))\n",
    "print(data)\n",
    "print(torch.max(data,1))"
   ]
  },
  {
   "cell_type": "markdown",
   "metadata": {},
   "source": [
    "## torch.where"
   ]
  },
  {
   "cell_type": "code",
   "execution_count": 7,
   "metadata": {},
   "outputs": [
    {
     "name": "stdout",
     "output_type": "stream",
     "text": [
      "tensor([[-1.2449e-01,  6.9806e-01],\n",
      "        [-3.2219e-02, -2.8030e-01],\n",
      "        [-7.8704e-04,  8.9011e-01]])\n",
      "tensor([[1., 1.],\n",
      "        [1., 1.],\n",
      "        [1., 1.]])\n",
      "tensor([[-1.2449e-01,  1.0000e+00],\n",
      "        [-3.2219e-02, -2.8030e-01],\n",
      "        [-7.8704e-04,  1.0000e+00]])\n",
      "tensor([[-0.1245,  0.0000],\n",
      "        [-0.0322, -0.2803],\n",
      "        [-0.0008,  0.0000]])\n"
     ]
    }
   ],
   "source": [
    "import torch\n",
    "\n",
    "x = torch.randn(3,2)\n",
    "y = torch.ones(3,2)\n",
    "print(x)\n",
    "print(y)\n",
    "\n",
    "print(torch.where(x < 0, x, y))\n",
    "print(torch.where(x < 0, x, 0))"
   ]
  },
  {
   "cell_type": "code",
   "execution_count": 8,
   "metadata": {},
   "outputs": [
    {
     "data": {
      "text/plain": [
       "tensor([ 8,  4,  5, 10, 10,  9, 10,  6, 10,  7])"
      ]
     },
     "execution_count": 8,
     "metadata": {},
     "output_type": "execute_result"
    }
   ],
   "source": [
    "import torch\n",
    "x = torch.tensor([8, 4, 5, 6, 1, 9, 10, 1, 10, 7])\n",
    "y = torch.tensor([2, 3, 3, 10, 10 , 4, 5, 6, 7 ,6])\n",
    "torch.where( x>y, x, y)"
   ]
  }
 ],
 "metadata": {
  "kernelspec": {
   "display_name": "Python 3.9.12 ('pytorch')",
   "language": "python",
   "name": "python3"
  },
  "language_info": {
   "codemirror_mode": {
    "name": "ipython",
    "version": 3
   },
   "file_extension": ".py",
   "mimetype": "text/x-python",
   "name": "python",
   "nbconvert_exporter": "python",
   "pygments_lexer": "ipython3",
   "version": "3.8.13"
  },
  "toc": {
   "base_numbering": 1,
   "nav_menu": {},
   "number_sections": true,
   "sideBar": true,
   "skip_h1_title": false,
   "title_cell": "Table of Contents",
   "title_sidebar": "Contents",
   "toc_cell": false,
   "toc_position": {
    "height": "calc(100% - 180px)",
    "left": "10px",
    "top": "150px",
    "width": "304.446px"
   },
   "toc_section_display": true,
   "toc_window_display": true
  },
  "varInspector": {
   "cols": {
    "lenName": 16,
    "lenType": 16,
    "lenVar": 40
   },
   "kernels_config": {
    "python": {
     "delete_cmd_postfix": "",
     "delete_cmd_prefix": "del ",
     "library": "var_list.py",
     "varRefreshCmd": "print(var_dic_list())"
    },
    "r": {
     "delete_cmd_postfix": ") ",
     "delete_cmd_prefix": "rm(",
     "library": "var_list.r",
     "varRefreshCmd": "cat(var_dic_list()) "
    }
   },
   "types_to_exclude": [
    "module",
    "function",
    "builtin_function_or_method",
    "instance",
    "_Feature"
   ],
   "window_display": false
  },
  "vscode": {
   "interpreter": {
    "hash": "992f425e58c3379c74963fffd7aafb953d75ec811aaddd2ee8a010590892053a"
   }
  }
 },
 "nbformat": 4,
 "nbformat_minor": 4
}
